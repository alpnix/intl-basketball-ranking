{
 "cells": [
  {
   "cell_type": "code",
   "execution_count": 7,
   "metadata": {},
   "outputs": [],
   "source": [
    "import pandas as pd"
   ]
  },
  {
   "cell_type": "code",
   "execution_count": 8,
   "metadata": {},
   "outputs": [
    {
     "name": "stdout",
     "output_type": "stream",
     "text": [
      "1. Unicaja: 0.8332\n",
      "2. Real Madrid: 0.8285\n",
      "3. Barça: 0.7062\n",
      "4. Lenovo Tenerife: 0.6666\n",
      "5. UCAM Murcia: 0.6576\n",
      "6. Valencia Basket: 0.6562\n",
      "7. Dreamland Gran Canaria: 0.6312\n",
      "8. Baxi Manresa: 0.6062\n",
      "9. Joventut: 0.6060\n",
      "10. Baskonia: 0.5812\n",
      "11. MoraBanc Andorra: 0.4713\n",
      "12. Casademont Zaragoza: 0.4672\n",
      "13. Bàsquet Girona: 0.4562\n",
      "14. Surne Bilbao Basket: 0.4562\n",
      "15. Monbus Obradoiro: 0.4062\n",
      "16. Covirán Granada: 0.4062\n",
      "17. Río Breogán: 0.4062\n",
      "18. Zunder Palencia: 0.2812\n"
     ]
    }
   ],
   "source": [
    "import pandas as pd\n",
    "import numpy as np\n",
    "\n",
    "# Load your CSV data (or replace this with your actual DataFrame)\n",
    "df = pd.read_csv(\"ligaacb-eurocup-2324.csv\")\n",
    "\n",
    "# Get list of unique teams\n",
    "teams = sorted(set(df['Team']).union(set(df['Opp'])))\n",
    "team_indices = {team: i for i, team in enumerate(teams)}\n",
    "n = len(teams)\n",
    "\n",
    "# Initialize Colley matrix and b vector\n",
    "C = 2 * np.eye(n) # diagonal initalized to 2 and incremented by games played, other entries will be updated to negative games played\n",
    "b = np.zeros(n) # later will be updated to 1 + (W-L)/2\n",
    "\n",
    "# Loop over each match\n",
    "for _, row in df.iterrows():\n",
    "    team = row['Team']\n",
    "    opp = row['Opp']\n",
    "    pts_team = row['PTS']\n",
    "    pts_opp = row['PTS_Opp']\n",
    "    weight = row.get('Weight', 1.0)\n",
    "\n",
    "    i = team_indices[team]\n",
    "    j = team_indices[opp]\n",
    "\n",
    "    # Update matrix\n",
    "    C[i, i] += weight\n",
    "    C[j, j] += weight\n",
    "    C[i, j] -= weight\n",
    "    C[j, i] -= weight\n",
    "\n",
    "    # Update b vector with W-L record\n",
    "    if pts_team > pts_opp:\n",
    "        b[i] += weight\n",
    "        b[j] -= weight\n",
    "    elif pts_team < pts_opp:\n",
    "        b[i] -= weight\n",
    "        b[j] += weight\n",
    "    else: \n",
    "        b[i] += weight / 2\n",
    "        b[j] += weight / 2\n",
    "   \n",
    "# Adjust b vector to be 1 + (W-L)/2\n",
    "for i in range(n):\n",
    "    b[i] = 1 + (b[i] / 2)\n",
    "\n",
    "# Solve the system\n",
    "r = np.linalg.solve(C, b)\n",
    "\n",
    "spanish_teams = set(pd.read_csv(\"ligaacb-2324.csv\")[\"Team\"])\n",
    "ranking_increment = 1\n",
    "# Output rankings\n",
    "rankings = sorted(zip(teams, r), key=lambda x: x[1], reverse=True)\n",
    "for rank, (team, score) in enumerate(rankings, 1):\n",
    "    if team in spanish_teams:\n",
    "        print(f\"{ranking_increment}. {team}: {score:.4f}\")\n",
    "        ranking_increment += 1"
   ]
  },
  {
   "cell_type": "code",
   "execution_count": null,
   "metadata": {},
   "outputs": [],
   "source": []
  }
 ],
 "metadata": {
  "kernelspec": {
   "display_name": "Python 3",
   "language": "python",
   "name": "python3"
  },
  "language_info": {
   "codemirror_mode": {
    "name": "ipython",
    "version": 3
   },
   "file_extension": ".py",
   "mimetype": "text/x-python",
   "name": "python",
   "nbconvert_exporter": "python",
   "pygments_lexer": "ipython3",
   "version": "3.9.6"
  },
  "orig_nbformat": 4
 },
 "nbformat": 4,
 "nbformat_minor": 2
}
